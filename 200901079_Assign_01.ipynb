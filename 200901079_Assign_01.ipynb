{
 "cells": [
  {
   "cell_type": "code",
   "execution_count": 1,
   "id": "3f22b2be",
   "metadata": {},
   "outputs": [
    {
     "name": "stdout",
     "output_type": "stream",
     "text": [
      "DFS Path from Arad to Bucharest: ['Arad', 'Sibiu', 'Rimnicu Vilcea', 'Pitesti', 'Bucharest']\n",
      "BFS Path from Arad to Bucharest: ['Arad', 'Sibiu', 'Fagaras', 'Bucharest']\n",
      "BFS is more efficient than DFS.\n"
     ]
    }
   ],
   "source": [
    "#Romanian Graph\n",
    "graph = {'Arad': {'Zerind': 75, 'Timisoara': 118, 'Sibiu': 140},\n",
    "         'Zerind': {'Arad': 75, 'Oradea': 71},\n",
    "         'Oradea': {'Zerind': 71, 'Sibiu': 151},\n",
    "         'Timisoara': {'Arad': 118, 'Lugoj': 111},\n",
    "         'Lugoj': {'Timisoara': 111, 'Mehadia': 70},\n",
    "         'Mehadia': {'Lugoj': 70, 'Drobeta': 75},\n",
    "         'Drobeta': {'Mehadia': 75, 'Craiova': 120},\n",
    "         'Sibiu': {'Arad': 140, 'Oradea': 151, 'Fagaras': 99, 'Rimnicu Vilcea': 80},\n",
    "         'Fagaras': {'Sibiu': 99, 'Bucharest': 211},\n",
    "         'Rimnicu Vilcea': {'Sibiu': 80, 'Craiova': 146, 'Pitesti': 97},\n",
    "         'Craiova': {'Drobeta': 120, 'Rimnicu Vilcea': 146, 'Pitesti': 138},\n",
    "         'Pitesti': {'Rimnicu Vilcea': 97, 'Craiova': 138, 'Bucharest': 101},\n",
    "         'Bucharest': {'Fagaras': 211, 'Pitesti': 101}}\n",
    "\n",
    "# Function to implement DepthFirstSearch algorithm\n",
    "def dfs(graph, start, goal):\n",
    "    visited = set()\n",
    "    stack = [(start, [start])]\n",
    "    while stack:\n",
    "        (node, path) = stack.pop()\n",
    "        if node not in visited:\n",
    "            if node == goal:\n",
    "                return path\n",
    "            visited.add(node)\n",
    "            for next_node in graph[node]:\n",
    "                if next_node not in visited:\n",
    "                    stack.append((next_node, path + [next_node]))\n",
    "\n",
    "# Function to implement BreadthFirstSearch algorithm\n",
    "def bfs(graph, start, goal):\n",
    "    visited = set()\n",
    "    queue = [(start, [start])]\n",
    "    while queue:\n",
    "        (node, path) = queue.pop(0)\n",
    "        if node not in visited:\n",
    "            if node == goal:\n",
    "                return path\n",
    "            visited.add(node)\n",
    "            for next_node in graph[node]:\n",
    "                if next_node not in visited:\n",
    "                    queue.append((next_node, path + [next_node]))\n",
    "\n",
    "\n",
    "source = 'Arad'\n",
    "goal = 'Bucharest'\n",
    "dfs_path = dfs(graph, source, goal)\n",
    "bfs_path = bfs(graph, source, goal)\n",
    "\n",
    "print(f\"DFS Path from {source} to {goal}: {dfs_path}\")\n",
    "print(f\"BFS Path from {source} to {goal}: {bfs_path}\")\n",
    "\n",
    "if len(dfs_path) < len(bfs_path):\n",
    "    print(\"DFS is more efficient than BFS.\")\n",
    "elif len(dfs_path) > len(bfs_path):\n",
    "    print(\"BFS is more efficient than DFS.\")\n",
    "else:\n",
    "    print(\"Both DFS and BFS have the same efficiency.\")\n"
   ]
  },
  {
   "cell_type": "code",
   "execution_count": null,
   "id": "f8d4de6d",
   "metadata": {},
   "outputs": [],
   "source": []
  }
 ],
 "metadata": {
  "kernelspec": {
   "display_name": "Python 3 (ipykernel)",
   "language": "python",
   "name": "python3"
  },
  "language_info": {
   "codemirror_mode": {
    "name": "ipython",
    "version": 3
   },
   "file_extension": ".py",
   "mimetype": "text/x-python",
   "name": "python",
   "nbconvert_exporter": "python",
   "pygments_lexer": "ipython3",
   "version": "3.9.13"
  }
 },
 "nbformat": 4,
 "nbformat_minor": 5
}
